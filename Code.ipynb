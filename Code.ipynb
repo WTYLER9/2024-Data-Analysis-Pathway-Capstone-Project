{
 "cells": [
  {
   "cell_type": "markdown",
   "id": "891105d8-1e89-4762-a679-f3e8d994e817",
   "metadata": {},
   "source": [
    "Importing the necessary libraries.  "
   ]
  },
  {
   "cell_type": "code",
   "execution_count": 4,
   "id": "f321cbca-0c6e-4bee-9398-52c22995bce8",
   "metadata": {},
   "outputs": [],
   "source": [
    "import math\n",
    "import numpy as np\n",
    "import pandas as pd\n",
    "from sklearn.linear_model import LinearRegression\n",
    "from sklearn.metrics import mean_squared_error, mean_absolute_error\n",
    "from sklearn.model_selection import train_test_split, cross_val_score"
   ]
  },
  {
   "cell_type": "markdown",
   "id": "404777c6-af78-40ba-8317-d9c5446fc94b",
   "metadata": {},
   "source": [
    "Reading in the data file that was downloaded from Keeneland's website and condensing it down to just the 2024 Spring Meet.\n",
    "Then, creating a new variable called 'Index' that will be used when merging with the 'main' data frame. Lastly, taking a look\n",
    "at the top part of the data to make sure it was read in properly and getting the length of the data frame to make sure it is \n",
    "equal to the length of the 'main' data frame."
   ]
  },
  {
   "cell_type": "code",
   "execution_count": 6,
   "id": "13f25acb-5716-47f9-b5e7-e9d00645162c",
   "metadata": {},
   "outputs": [
    {
     "name": "stdout",
     "output_type": "stream",
     "text": [
      "         RaceMeet  RaceDate  RaceNumber               Surface RaceType  \\\n",
      "5295  Spring 2024  4/5/2024           1  Dirt                      STR   \n",
      "5296  Spring 2024  4/5/2024           2  Dirt                      MSW   \n",
      "5297  Spring 2024  4/5/2024           3  Turf                      ALW   \n",
      "5298  Spring 2024  4/5/2024           4  Dirt                      MSW   \n",
      "5299  Spring 2024  4/5/2024           5  Turf                      MSW   \n",
      "\n",
      "      Distance  FieldSize  WinningPostPosition           HorseName  odds  ...  \\\n",
      "5295       7.0          7                    1  Play Good Pay Good   1.9  ...   \n",
      "5296       4.5          9                    9       Shoot It True   0.5  ...   \n",
      "5297       5.5          9                    3            Mo Stash   2.5  ...   \n",
      "5298       7.0          9                    1         Roman Grace   2.8  ...   \n",
      "5299       9.5         11                    4                Sy B   2.3  ...   \n",
      "\n",
      "     LastWorkoutLocation  RouteSprint      WinnersSire  \\\n",
      "5295                 BEL            S         Congrats   \n",
      "5296                 KEE            S         Munnings   \n",
      "5297                 PAY            S          Mo Town   \n",
      "5298                 BEL            S         Munnings   \n",
      "5299                 KEE            R  English Channel   \n",
      "\n",
      "                                           WinnersOwner  \\\n",
      "5295  Dubb Michael and C2 Racing Stable LLC         ...   \n",
      "5296  Ice Wine Stable and Smart Choice Stable       ...   \n",
      "5297  BBN Racing LLC                                ...   \n",
      "5298  JP Racing Stable and Paradise Farms Corp.     ...   \n",
      "5299  Blue Heaven Farm (Bonnie Baskin and Adam Cornd...   \n",
      "\n",
      "                                         WinnersTrainer  \\\n",
      "5295  Dutrow Jr. Richard                            ...   \n",
      "5296  Ward Wesley                                   ...   \n",
      "5297  Oliver Victoria                               ...   \n",
      "5298  Pletcher Todd                                 ...   \n",
      "5299  DeVaux Cherie                                 ...   \n",
      "\n",
      "                                          WinnersJockey  ExactaPayout  \\\n",
      "5295  Ortiz Jr. Irad                                ...         10.46   \n",
      "5296  Gaffalione Tyler                              ...          6.39   \n",
      "5297  Saez Luis                                     ...         11.55   \n",
      "5298  Gaffalione Tyler                              ...         17.76   \n",
      "5299  Ortiz Jr. Irad                                ...         31.75   \n",
      "\n",
      "     SuperfectaPayout TrifectaPayout Index  \n",
      "5295            29.61          32.21     0  \n",
      "5296            38.87          33.71     1  \n",
      "5297            22.67          24.34     2  \n",
      "5298            19.36          25.43     3  \n",
      "5299           237.45         180.38     4  \n",
      "\n",
      "[5 rows x 27 columns]\n",
      "\n",
      "Length is 150\n"
     ]
    }
   ],
   "source": [
    "df = pd.read_csv(\"Keeneland Race Data Since Oct-2006.csv\")\n",
    "df = df[df[\"RaceMeet\"] == \"Spring 2024\"]\n",
    "df['Index'] = np.arange(len(df))\n",
    "print(df.head())\n",
    "print()\n",
    "print(\"Length is \" + str(len(df)))"
   ]
  },
  {
   "cell_type": "markdown",
   "id": "810f5823-512b-4aec-9c6a-3ac8bc739a9a",
   "metadata": {},
   "source": [
    "Reading in the 'main' data file that was made with data manually entered from a combination of Keeneland's daily race entries and results.\n",
    "Checking to make sure there was no missing data before creating a subset of the 'main' data frame that only contains the horses that finished\n",
    "1st. The middle 2 lines were provided by ChatGPT to help resolve a warning I was getting while trying to create an 'Index' variable like in \n",
    "the prior cell. Then, taking a look at top parts the 'main' and 'winners' data frames to make sure they look correct. Finally, getting the \n",
    "length of the 'winners' data frame to make sure it is equal to the length of previous data frame since that only contained data from the winning\n",
    "horses."
   ]
  },
  {
   "cell_type": "code",
   "execution_count": 8,
   "id": "ad180ee9-4754-4638-a2bd-3990ab042397",
   "metadata": {},
   "outputs": [
    {
     "name": "stdout",
     "output_type": "stream",
     "text": [
      "False\n",
      "\n",
      "   Day Weekday  Race Number  Post Position  M/L Odds Finish Final Odds  \\\n",
      "0    1  Friday            1              1       3.5      1       1.88   \n",
      "1    1  Friday            1              2      15.0      6      12.46   \n",
      "2    1  Friday            1              3       4.5      7       6.91   \n",
      "3    1  Friday            1              4       8.0      S          S   \n",
      "4    1  Friday            1              5      12.0      3       6.56   \n",
      "\n",
      "   Change In Odds  \n",
      "0           -1.62  \n",
      "1           -2.54  \n",
      "2            2.41  \n",
      "3            0.00  \n",
      "4           -5.44  \n",
      "    Day Weekday  Race Number  Post Position  M/L Odds Finish Final Odds  \\\n",
      "0     1  Friday            1              1       3.5      1       1.88   \n",
      "20    1  Friday            2             12       4.0      1       0.46   \n",
      "24    1  Friday            3              3       2.0      1        2.5   \n",
      "32    1  Friday            4              1       3.0      1        2.8   \n",
      "46    1  Friday            5              5       8.0      1       2.31   \n",
      "\n",
      "    Change In Odds  Index  \n",
      "0            -1.62      0  \n",
      "20           -3.54      1  \n",
      "24            0.50      2  \n",
      "32           -0.20      3  \n",
      "46           -5.69      4  \n",
      "\n",
      "Length is 150\n"
     ]
    }
   ],
   "source": [
    "df_main = pd.read_csv(\"Keeneland April 2024 Data for Capstone Project.csv\")\n",
    "print(df_main.isnull().values.any())\n",
    "print()\n",
    "winners = df_main[df_main[\"Finish\"] == \"1\"]\n",
    "winners = winners.copy()\n",
    "winners.loc[:, 'Index'] = np.arange(len(winners))\n",
    "print(df_main.head())\n",
    "print(winners.head())\n",
    "print()\n",
    "print(\"Length is \" + str(len(winners)))"
   ]
  },
  {
   "cell_type": "markdown",
   "id": "62c92e6b-89fa-4f0d-89ed-0f5469a87a20",
   "metadata": {},
   "source": [
    "Since both created data frames have the same length of 150, they can now be merged using the 'Index' variables that were created. \n",
    "Then, condensing the merged data frame down to the columns listed below and checking the data type of each column. The Final Odds \n",
    "column needed to be converted from a string data type to a float data type, but the other columns had the appropiate data type based \n",
    "on values in each column. The calculated percentage of winners that were favorites is 38.67%."
   ]
  },
  {
   "cell_type": "code",
   "execution_count": 10,
   "id": "0019305d-fb25-437f-8abb-1a3654f97e09",
   "metadata": {},
   "outputs": [
    {
     "name": "stdout",
     "output_type": "stream",
     "text": [
      "   Day Weekday  Race Number  Post Position  M/L Odds Final Odds  \\\n",
      "0    1  Friday            1              1       3.5       1.88   \n",
      "1    1  Friday            2             12       4.0       0.46   \n",
      "2    1  Friday            3              3       2.0        2.5   \n",
      "3    1  Friday            4              1       3.0        2.8   \n",
      "4    1  Friday            5              5       8.0       2.31   \n",
      "\n",
      "   Change In Odds  Distance  FieldSize Favorite  HalfMileTime  FinalTime  \\\n",
      "0           -1.62       7.0          7        Y         45.99      88.86   \n",
      "1           -3.54       4.5          9        Y         45.16      52.04   \n",
      "2            0.50       5.5          9        Y         45.16      63.27   \n",
      "3           -0.20       7.0          9        N         45.63      84.56   \n",
      "4           -5.69       9.5         11        Y         49.02     118.86   \n",
      "\n",
      "                                      WinnersTrainer  \\\n",
      "0  Dutrow Jr. Richard                            ...   \n",
      "1  Ward Wesley                                   ...   \n",
      "2  Oliver Victoria                               ...   \n",
      "3  Pletcher Todd                                 ...   \n",
      "4  DeVaux Cherie                                 ...   \n",
      "\n",
      "                                       WinnersJockey  ExactaPayout  \\\n",
      "0  Ortiz Jr. Irad                                ...         10.46   \n",
      "1  Gaffalione Tyler                              ...          6.39   \n",
      "2  Saez Luis                                     ...         11.55   \n",
      "3  Gaffalione Tyler                              ...         17.76   \n",
      "4  Ortiz Jr. Irad                                ...         31.75   \n",
      "\n",
      "   SuperfectaPayout  TrifectaPayout  \n",
      "0             29.61           32.21  \n",
      "1             38.87           33.71  \n",
      "2             22.67           24.34  \n",
      "3             19.36           25.43  \n",
      "4            237.45          180.38  \n",
      "\n",
      "Day                          Int64\n",
      "Weekday             string[python]\n",
      "Race Number                  Int64\n",
      "Post Position                Int64\n",
      "M/L Odds                   Float64\n",
      "Final Odds                 Float64\n",
      "Change In Odds             Float64\n",
      "Distance                   Float64\n",
      "FieldSize                    Int64\n",
      "Favorite            string[python]\n",
      "HalfMileTime               Float64\n",
      "FinalTime                  Float64\n",
      "WinnersTrainer      string[python]\n",
      "WinnersJockey       string[python]\n",
      "ExactaPayout               Float64\n",
      "SuperfectaPayout           Float64\n",
      "TrifectaPayout             Float64\n",
      "dtype: object\n",
      "\n",
      "0.38666666666666666\n"
     ]
    }
   ],
   "source": [
    "df_winners = pd.merge(left=winners,right=df,on='Index')\n",
    "df_winners = df_winners[['Day','Weekday','Race Number','Post Position','M/L Odds','Final Odds','Change In Odds',\n",
    "                       'Distance','FieldSize','Favorite','HalfMileTime','FinalTime','WinnersTrainer',\n",
    "                       'WinnersJockey','ExactaPayout','SuperfectaPayout','TrifectaPayout']]\n",
    "print(df_winners.head())\n",
    "print()\n",
    "df_winners['Final Odds'] = df_winners['Final Odds'].astype('Float64')\n",
    "print(df_winners.convert_dtypes().dtypes)\n",
    "print()\n",
    "winners_as_favs = df_winners[df_winners[\"Favorite\"] == \"Y\"]\n",
    "print(len(winners_as_favs)/len(winners))"
   ]
  },
  {
   "cell_type": "markdown",
   "id": "2b43c3ea-983b-44b9-877c-53a2f2048485",
   "metadata": {},
   "source": [
    "Writing the merged data frame to a CSV file for use in Tableau."
   ]
  },
  {
   "cell_type": "code",
   "execution_count": 12,
   "id": "1604cd77-8284-4d1e-91df-784092ce6618",
   "metadata": {},
   "outputs": [],
   "source": [
    "df_winners.to_csv(\"merged_data_sets.csv\")"
   ]
  },
  {
   "cell_type": "markdown",
   "id": "9df91928-b9e6-4f93-b910-273530e65797",
   "metadata": {},
   "source": [
    "Calculating the number of times a certain Post Position or Jockey or Trainer won during the meet."
   ]
  },
  {
   "cell_type": "code",
   "execution_count": 14,
   "id": "f3cd3ecc-aa45-4960-b455-b3b26fde461a",
   "metadata": {},
   "outputs": [
    {
     "name": "stdout",
     "output_type": "stream",
     "text": [
      "Post Position\n",
      "1     19\n",
      "5     18\n",
      "6     16\n",
      "2     16\n",
      "9     14\n",
      "4     12\n",
      "10    12\n",
      "8     11\n",
      "7     11\n",
      "3      9\n",
      "12     6\n",
      "11     4\n",
      "14     2\n",
      "Name: count, dtype: int64\n",
      "\n",
      "WinnersJockey\n",
      "Ortiz Jr. Irad                                                                                                             20\n",
      "Ortiz Jose                                                                                                                 15\n",
      "Gaffalione Tyler                                                                                                           15\n",
      "Prat Flavien                                                                                                               10\n",
      "Saez Luis                                                                                                                  10\n",
      "Rosario Joel                                                                                                                9\n",
      "Velazquez John                                                                                                              8\n",
      "Hernandez Jr. Brian                                                                                                         7\n",
      "Alvarado Junior                                                                                                             7\n",
      "Machado Luan                                                                                                                6\n",
      "Geroux Florent                                                                                                              6\n",
      "Garcia Martin                                                                                                               5\n",
      "Concepcion Axel                                                                                                             4\n",
      "Lanerie Corey                                                                                                               4\n",
      "Gutierrez Reylu                                                                                                             3\n",
      "Leparoux Julien                                                                                                             2\n",
      "Dettori Lanfranco                                                                                                           2\n",
      "Cedillo Abel                                                                                                                2\n",
      "Cannon Declan                                                                                                               2\n",
      "Corrales Gerardo                                                                                                            1\n",
      "Asmussen Keith                                                                                                              1\n",
      "Buick William                                                                                                               1\n",
      "Riquelme Jose                                                                                                               1\n",
      "Morales Edgar                                                                                                               1\n",
      "Rodriguez Walter                                                                                                            1\n",
      "Loveberry Jareth                                                                                                            1\n",
      "Beschizza Adam                                                                                                              1\n",
      "Cheminaud Vincent                                                                                                           1\n",
      "Giles Emmanuel                                                                                                              1\n",
      "McKee John                                                                                                                  1\n",
      "Calleja Andres                                                                                                              1\n",
      "Ruiz Jorge                                                                                                                  1\n",
      "Name: count, dtype: int64\n",
      "\n",
      "WinnersTrainer\n",
      "Ward Wesley                                                                                                                12\n",
      "Cox Brad                                                                                                                    8\n",
      "Brown Chad                                                                                                                  8\n",
      "Walsh Brendan                                                                                                               7\n",
      "Pletcher Todd                                                                                                               5\n",
      "                                                                                                                           ..\n",
      "Dunn Stephen                                                                                                                1\n",
      "Joseph Jr. Saffie                                                                                                           1\n",
      "Foster Eric                                                                                                                 1\n",
      "McGaughey III Claude                                                                                                        1\n",
      "Kelly Blake                                                                                                                 1\n",
      "Name: count, Length: 76, dtype: int64\n"
     ]
    }
   ],
   "source": [
    "winning_post_positions = df_winners['Post Position'].value_counts()\n",
    "print(winning_post_positions)\n",
    "print()\n",
    "winning_jockey = df_winners['WinnersJockey'].value_counts()\n",
    "print(winning_jockey)\n",
    "print()\n",
    "winning_trainer = df_winners['WinnersTrainer'].value_counts()\n",
    "print(winning_trainer)"
   ]
  },
  {
   "cell_type": "markdown",
   "id": "46392d7d-6943-45fe-b598-43747887582b",
   "metadata": {},
   "source": [
    "Calculating average FieldSize by Weekday (Sunday, Wednesday, Thursday, Friday, and Saturday only), average HalfMileTime and FinalTime\n",
    "by distance in furlongs, and the average Morning Line odds/final odds/change in odds for a winner."
   ]
  },
  {
   "cell_type": "code",
   "execution_count": 16,
   "id": "34df9c22-e22c-4db8-b9cf-c36b4168ba81",
   "metadata": {},
   "outputs": [
    {
     "name": "stdout",
     "output_type": "stream",
     "text": [
      "Weekday\n",
      "Friday       8.900000\n",
      "Saturday     9.187500\n",
      "Sunday       9.407407\n",
      "Thursday     7.814815\n",
      "Wednesday    7.958333\n",
      "Name: FieldSize, dtype: float64\n",
      "\n",
      "Distance\n",
      "4.5     46.052222\n",
      "5.5     44.540625\n",
      "6.0     45.798261\n",
      "6.5     45.226000\n",
      "7.0     45.953200\n",
      "8.0     47.502500\n",
      "8.5     47.993514\n",
      "9.0     47.939000\n",
      "9.5     48.112857\n",
      "12.0    49.865000\n",
      "Name: HalfMileTime, dtype: float64\n",
      "\n",
      "Distance\n",
      "4.5      52.746667\n",
      "5.5      62.973125\n",
      "6.0      71.418261\n",
      "6.5      77.478000\n",
      "7.0      85.743200\n",
      "8.0      95.986667\n",
      "8.5     105.181892\n",
      "9.0     111.377000\n",
      "9.5     116.787143\n",
      "12.0    148.875000\n",
      "Name: FinalTime, dtype: float64\n",
      "\n",
      "The average Morning Line odds of a winner: 6.5840000000000005\n",
      "\n",
      "The average final odds of a winner: 5.688\n",
      "\n",
      "The average change in odds of a winner: -0.8960000000000008\n"
     ]
    }
   ],
   "source": [
    "average_field_size_by_weekday = df_winners.groupby(\"Weekday\")[\"FieldSize\"].mean()\n",
    "print(average_field_size_by_weekday)\n",
    "print()\n",
    "average_halfmile_by_distance = df_winners.groupby(\"Distance\")[\"HalfMileTime\"].mean()\n",
    "print(average_halfmile_by_distance)\n",
    "print()\n",
    "average_finaltime_by_distance = df_winners.groupby(\"Distance\")[\"FinalTime\"].mean()\n",
    "print(average_finaltime_by_distance)\n",
    "print()\n",
    "average_winner_mlodds = df_winners[\"M/L Odds\"].mean()\n",
    "print(\"The average Morning Line odds of a winner: \" + str(average_winner_mlodds))\n",
    "print()\n",
    "average_winner_finalodds = df_winners[\"Final Odds\"].mean()\n",
    "print(\"The average final odds of a winner: \" + str(average_winner_finalodds))\n",
    "print()\n",
    "average_winner_oddschange = average_winner_finalodds - average_winner_mlodds\n",
    "print(\"The average change in odds of a winner: \" + str(average_winner_oddschange))"
   ]
  },
  {
   "cell_type": "markdown",
   "id": "791c49fb-cc66-4887-9159-ca6941431502",
   "metadata": {},
   "source": [
    "Calculating the number of scratches and creating a subset of the 'main' data frame without scratches. The Final Odds \n",
    "column and Finish column needed to be converted from a string data type to a float data type and integer data type,\n",
    "respectively. Finally, taking a look at the top part of the newly created data frame to make sure it looks correct."
   ]
  },
  {
   "cell_type": "code",
   "execution_count": 18,
   "id": "208942f4-20e3-466a-84a9-043af6a77919",
   "metadata": {},
   "outputs": [
    {
     "name": "stdout",
     "output_type": "stream",
     "text": [
      "The number of scratches: 333\n",
      "\n",
      "Day                        Int64\n",
      "Weekday           string[python]\n",
      "Race Number                Int64\n",
      "Post Position              Int64\n",
      "M/L Odds                 Float64\n",
      "Finish                     Int64\n",
      "Final Odds               Float64\n",
      "Change In Odds           Float64\n",
      "dtype: object\n",
      "\n",
      "   Day Weekday  Race Number  Post Position  M/L Odds Finish Final Odds  \\\n",
      "0    1  Friday            1              1       3.5      1       1.88   \n",
      "1    1  Friday            1              2      15.0      6      12.46   \n",
      "2    1  Friday            1              3       4.5      7       6.91   \n",
      "4    1  Friday            1              5      12.0      3       6.56   \n",
      "6    1  Friday            1              7       6.0      4       9.39   \n",
      "\n",
      "   Change In Odds  \n",
      "0            1.62  \n",
      "1            2.54  \n",
      "2            2.41  \n",
      "4            5.44  \n",
      "6            3.39  \n"
     ]
    }
   ],
   "source": [
    "number_of_scratches = len(df_main[df_main[\"Finish\"]=='S'])\n",
    "print(\"The number of scratches: \" + str(number_of_scratches))\n",
    "print()\n",
    "df_main_no_scratches = df_main[df_main[\"Finish\"] != \"S\"]\n",
    "df_main_no_scratches = df_main_no_scratches.copy()\n",
    "df_main_no_scratches.loc[:, 'Final Odds'] = df_main_no_scratches['Final Odds'].astype('Float64')\n",
    "df_main_no_scratches.loc[:, 'Finish'] = df_main_no_scratches['Finish'].astype('Int64')\n",
    "df_main_no_scratches.loc[:, 'Change In Odds'] = np.abs(df_main_no_scratches['Change In Odds'])\n",
    "print(df_main_no_scratches.convert_dtypes().dtypes)\n",
    "print()\n",
    "print(df_main_no_scratches.head())"
   ]
  },
  {
   "cell_type": "markdown",
   "id": "6deac8a8-742e-4e55-9503-41b7df233fd5",
   "metadata": {},
   "source": [
    "Writing the above data frame to a CSV file for use in Tableau."
   ]
  },
  {
   "cell_type": "code",
   "execution_count": 20,
   "id": "88591771-2bf9-4ee0-9255-b73ea2dbaa46",
   "metadata": {},
   "outputs": [],
   "source": [
    "df_main_no_scratches.to_csv('main_no_scratches.csv')"
   ]
  },
  {
   "cell_type": "markdown",
   "id": "69d79f63-39ed-48f4-90e6-cc9464f1bab9",
   "metadata": {},
   "source": [
    "Calculating the averages of Morning Line Odds, Final Odds, and Change In Odds by Finish. The Final Odds is closest\n",
    "to being a 'perfect' 1 to 12 in order."
   ]
  },
  {
   "cell_type": "code",
   "execution_count": 22,
   "id": "7137ba26-f2ba-4691-bd7a-477d3f887caa",
   "metadata": {},
   "outputs": [
    {
     "name": "stdout",
     "output_type": "stream",
     "text": [
      "Finish\n",
      "1      6.584000\n",
      "2      7.770667\n",
      "3      9.344000\n",
      "4     11.806000\n",
      "5     12.037162\n",
      "6     13.487143\n",
      "9     14.709877\n",
      "7     14.900877\n",
      "12    15.125000\n",
      "8     15.352041\n",
      "10    19.338983\n",
      "11    20.666667\n",
      "Name: M/L Odds, dtype: float64\n",
      "\n",
      "Finish\n",
      "1         5.688\n",
      "2      8.063733\n",
      "3     10.069733\n",
      "4     14.496667\n",
      "5     17.800068\n",
      "6     20.007286\n",
      "7     23.873509\n",
      "8     27.414082\n",
      "9      28.06642\n",
      "12    33.834167\n",
      "10    42.658814\n",
      "11    47.208571\n",
      "Name: Final Odds, dtype: object\n",
      "\n",
      "Finish\n",
      "1      3.570667\n",
      "2      3.732533\n",
      "3      4.673600\n",
      "4      7.127467\n",
      "6      9.056857\n",
      "5      9.057905\n",
      "7     11.443860\n",
      "8     14.402245\n",
      "9     14.634321\n",
      "12    19.347500\n",
      "10    23.904576\n",
      "11    26.871905\n",
      "Name: Change In Odds, dtype: float64\n"
     ]
    }
   ],
   "source": [
    "average_mlodds_by_finish = df_main_no_scratches.groupby(\"Finish\")[\"M/L Odds\"].mean().sort_values(ascending=True)\n",
    "print(average_mlodds_by_finish)\n",
    "print()\n",
    "average_finalodds_by_finish = df_main_no_scratches.groupby(\"Finish\")[\"Final Odds\"].mean().sort_values(ascending=True)\n",
    "print(average_finalodds_by_finish)\n",
    "print()\n",
    "average_change_in_odds_by_finish = df_main_no_scratches.groupby(\"Finish\")[\"Change In Odds\"].mean().sort_values(ascending=True)\n",
    "print(average_change_in_odds_by_finish)"
   ]
  },
  {
   "cell_type": "markdown",
   "id": "12dcd821-fe27-48fb-8ab2-ca77e3a99bd4",
   "metadata": {},
   "source": [
    "Creating a function to be used for splitting odds or changes in odds into 8 groups. I based the cut-off values on typically\n",
    "seen Morning Line odds. I wanted to see if big odds or odds changes had a lopsided effect when creating models to compare. "
   ]
  },
  {
   "cell_type": "code",
   "execution_count": 24,
   "id": "f3e59919-110c-4c17-b373-09f71c94e825",
   "metadata": {},
   "outputs": [],
   "source": [
    "def splitter(s):\n",
    "    li = []\n",
    "    for i in s:\n",
    "        if i <= 2:\n",
    "            li.append(1) \n",
    "        elif i <= 5:\n",
    "            li.append(2)\n",
    "        elif i <= 10:\n",
    "            li.append(3)\n",
    "        elif i <= 15:\n",
    "            li.append(4)\n",
    "        elif i <= 20:\n",
    "            li.append(5)\n",
    "        elif i <= 30:\n",
    "            li.append(6)\n",
    "        elif i <= 50:\n",
    "            li.append(7)\n",
    "        else:\n",
    "            li.append(8)\n",
    "    return li"
   ]
  },
  {
   "cell_type": "markdown",
   "id": "44fc881b-37d8-44f0-854a-7f3797b9af22",
   "metadata": {},
   "source": [
    "Using lambda functions to create 3 new variables, which are the Morning Line Odds, Final Odds, and Change In Odds after \n",
    "being split into the appropriate group. NOTE: the values in the Diff_Odds_Split column do not need to be equal to the\n",
    "difference in the corresponding ML_Odds_Split and F(inal)_Odds_Split values."
   ]
  },
  {
   "cell_type": "code",
   "execution_count": 26,
   "id": "34ac62d2-e2f2-4126-9ae6-6d7028eea02a",
   "metadata": {},
   "outputs": [
    {
     "name": "stdout",
     "output_type": "stream",
     "text": [
      "   Day Weekday  Race Number  Post Position  M/L Odds Finish Final Odds  \\\n",
      "0    1  Friday            1              1       3.5      1       1.88   \n",
      "1    1  Friday            1              2      15.0      6      12.46   \n",
      "2    1  Friday            1              3       4.5      7       6.91   \n",
      "4    1  Friday            1              5      12.0      3       6.56   \n",
      "6    1  Friday            1              7       6.0      4       9.39   \n",
      "\n",
      "   Change In Odds  ML_Odds_Split  F_Odds_Split  Diff_Odds_Split  \n",
      "0            1.62              2             1                1  \n",
      "1            2.54              4             4                2  \n",
      "2            2.41              2             3                2  \n",
      "4            5.44              4             3                3  \n",
      "6            3.39              3             3                2  \n"
     ]
    }
   ],
   "source": [
    "df_main_no_scratches = df_main_no_scratches.assign(ML_Odds_Split = lambda x: splitter(df_main_no_scratches[\"M/L Odds\"]))\n",
    "df_main_no_scratches = df_main_no_scratches.assign(F_Odds_Split = lambda x: splitter(df_main_no_scratches[\"Final Odds\"]))\n",
    "df_main_no_scratches = df_main_no_scratches.assign(Diff_Odds_Split = lambda x: splitter(df_main_no_scratches[\"Change In Odds\"]))\n",
    "print(df_main_no_scratches.head())"
   ]
  },
  {
   "cell_type": "markdown",
   "id": "04f1f0fa-8190-4a4d-b746-93fd0a6d4786",
   "metadata": {},
   "source": [
    "Calculating the averages of Morning Line Odds (after being split), Final Odds (after being split), and \n",
    "Change In Odds (after being split) by Finish. The Final Odds (after being split) is again closest to being \n",
    "a 'perfect' 1 to 12 in order."
   ]
  },
  {
   "cell_type": "code",
   "execution_count": 28,
   "id": "3b9b3d3f-7d50-44d2-84b2-e932b1e79967",
   "metadata": {},
   "outputs": [
    {
     "name": "stdout",
     "output_type": "stream",
     "text": [
      "Finish\n",
      "1     2.493333\n",
      "2     2.753333\n",
      "3     3.006667\n",
      "4     3.466667\n",
      "5     3.540541\n",
      "6     3.707143\n",
      "9     3.950617\n",
      "7     3.964912\n",
      "8     4.051020\n",
      "12    4.083333\n",
      "10    4.610169\n",
      "11    4.690476\n",
      "Name: ML_Odds_Split, dtype: float64\n",
      "\n",
      "Finish\n",
      "1     2.306667\n",
      "2     2.733333\n",
      "3     3.200000\n",
      "4     3.846667\n",
      "5     4.209459\n",
      "6     4.371429\n",
      "7     4.894737\n",
      "8     5.204082\n",
      "9     5.283951\n",
      "12    5.791667\n",
      "10    6.220339\n",
      "11    6.428571\n",
      "Name: F_Odds_Split, dtype: float64\n",
      "\n",
      "Finish\n",
      "2     1.766667\n",
      "1     1.813333\n",
      "3     2.100000\n",
      "4     2.553333\n",
      "5     2.783784\n",
      "6     2.885714\n",
      "7     3.166667\n",
      "8     3.459184\n",
      "9     3.740741\n",
      "12    4.208333\n",
      "10    4.813559\n",
      "11    4.928571\n",
      "Name: Diff_Odds_Split, dtype: float64\n"
     ]
    }
   ],
   "source": [
    "average_smlodds_by_finish = df_main_no_scratches.groupby(\"Finish\")[\"ML_Odds_Split\"].mean().sort_values(ascending=True)\n",
    "print(average_smlodds_by_finish)\n",
    "print()\n",
    "average_sfinalodds_by_finish = df_main_no_scratches.groupby(\"Finish\")[\"F_Odds_Split\"].mean().sort_values(ascending=True)\n",
    "print(average_sfinalodds_by_finish)\n",
    "print()\n",
    "average_schange_in_odds_by_finish = df_main_no_scratches.groupby(\"Finish\")[\"Diff_Odds_Split\"].mean().sort_values(ascending=True)\n",
    "print(average_schange_in_odds_by_finish)"
   ]
  },
  {
   "cell_type": "markdown",
   "id": "364b4410-e2db-4b98-9faf-78a567741b54",
   "metadata": {},
   "source": [
    "Writing the main_no_scratches data frame, after being updated to include the 'split' columns, to a CSV file \n",
    "for use in Tableau."
   ]
  },
  {
   "cell_type": "code",
   "execution_count": 30,
   "id": "d0c494e3-a701-4264-8f90-ea8e987b892d",
   "metadata": {},
   "outputs": [],
   "source": [
    "df_main_no_scratches.to_csv('main_no_scratches_grouped.csv')"
   ]
  },
  {
   "cell_type": "markdown",
   "id": "f01573e3-8d8f-4119-bbbc-85df289677f8",
   "metadata": {},
   "source": [
    "The following sections are a practice attempt at using scikit-learn for Linear Regression to determine if \n",
    "Morning Line odds or Final odds or the change in odds are better for determing a horse's finishing position. \n",
    "These 2 websites helped with the code and provide a better explaination, than I am currently capable of, of what is being done:\n",
    "https://medium.com/@neslihannavsar/building-a-linear-regression-model-with-scikit-learn-part-1-eed4c04f53f9\n",
    "https://www.geeksforgeeks.org/python-linear-regression-using-sklearn/#"
   ]
  },
  {
   "cell_type": "markdown",
   "id": "e5684f8a-8a37-423d-ab2c-e8f1585645c4",
   "metadata": {},
   "source": [
    "You can switch the # from line 3 to line 2 to run the 'split' version. Make sure to do the same for the other models\n",
    "so all 3 models are the same version when comparing them."
   ]
  },
  {
   "cell_type": "code",
   "execution_count": 33,
   "id": "b2c1ac72-1d28-4d8d-975a-c7097127d3b0",
   "metadata": {},
   "outputs": [
    {
     "name": "stdout",
     "output_type": "stream",
     "text": [
      "Intercept:  [3.65959736]\n",
      "Coefficients:  [0.12381382]\n",
      "7.446915895319539\n",
      "2.7289037900445554\n",
      "2.2604210065444357\n",
      "0.1473245078412827\n"
     ]
    }
   ],
   "source": [
    "#M/L Odds model\n",
    "X = np.array(df_main_no_scratches['M/L Odds']).reshape(-1, 1)\n",
    "#X = np.array(df_main_no_scratches['ML_Odds_Split']).reshape(-1, 1)\n",
    "y = np.array(df_main_no_scratches['Finish']).reshape(-1, 1)\n",
    "ml_model = LinearRegression().fit(X,y)\n",
    "print ('Intercept: ',ml_model.intercept_)    \n",
    "print ('Coefficients: ', ml_model.coef_[0])\n",
    "# MSE\n",
    "y_pred = ml_model.predict(X)\n",
    "mse = mean_squared_error(y, y_pred)\n",
    "print(mse)\n",
    "y.mean() \n",
    "y.std() \n",
    "# RMSE\n",
    "print(np.sqrt(mse))\n",
    "# MAE\n",
    "print(mean_absolute_error(y, y_pred))\n",
    "# R2 Score\n",
    "print(ml_model.score(X, y))"
   ]
  },
  {
   "cell_type": "markdown",
   "id": "a1d50a43-8692-47bf-a144-b006ae1d03c4",
   "metadata": {},
   "source": [
    "You can switch the # from line 3 to line 2 to run the 'split' version."
   ]
  },
  {
   "cell_type": "code",
   "execution_count": 35,
   "id": "b82c2afc-ea34-41d1-8746-ca3b825811be",
   "metadata": {},
   "outputs": [
    {
     "name": "stdout",
     "output_type": "stream",
     "text": [
      "Intercept:  [3.98406933]\n",
      "Coefficients:  [0.06319424]\n",
      "6.817208486263278\n",
      "2.6109784538106164\n",
      "2.148719577614339\n",
      "0.21942631246492683\n"
     ]
    }
   ],
   "source": [
    "#Final Odds model\n",
    "X = np.array(df_main_no_scratches['Final Odds']).reshape(-1, 1)\n",
    "#X = np.array(df_main_no_scratches['F_Odds_Split']).reshape(-1, 1)\n",
    "f_model = LinearRegression().fit(X,y)\n",
    "print ('Intercept: ',f_model.intercept_)    \n",
    "print ('Coefficients: ', f_model.coef_[0])\n",
    "# MSE\n",
    "y_pred = f_model.predict(X)\n",
    "mse = mean_squared_error(y, y_pred)\n",
    "print(mse)\n",
    "y.mean() \n",
    "y.std() \n",
    "# RMSE\n",
    "print(np.sqrt(mse))\n",
    "# MAE\n",
    "print(mean_absolute_error(y, y_pred))\n",
    "# R2 Score\n",
    "print(f_model.score(X, y))"
   ]
  },
  {
   "cell_type": "markdown",
   "id": "663b5445-b488-40a8-96d3-3698775cf356",
   "metadata": {},
   "source": [
    "You can switch the # from line 3 to line 2 to run the 'split' version."
   ]
  },
  {
   "cell_type": "code",
   "execution_count": 37,
   "id": "cfbfcc0b-4023-45aa-871d-1926bd500ba5",
   "metadata": {},
   "outputs": [
    {
     "name": "stdout",
     "output_type": "stream",
     "text": [
      "Intercept:  [4.41358927]\n",
      "Coefficients:  [0.07810487]\n",
      "7.434123532322491\n",
      "2.726558917816098\n",
      "2.2655812448146824\n",
      "0.14878923962658952\n"
     ]
    }
   ],
   "source": [
    "#Change In Odds model\n",
    "X = np.array(df_main_no_scratches['Change In Odds']).reshape(-1, 1)\n",
    "#X = np.array(df_main_no_scratches['Diff_Odds_Split']).reshape(-1, 1)\n",
    "cio_model = LinearRegression().fit(X,y)\n",
    "print ('Intercept: ',cio_model.intercept_)    \n",
    "print ('Coefficients: ', cio_model.coef_[0])\n",
    "# MSE\n",
    "y_pred = cio_model.predict(X)\n",
    "mse = mean_squared_error(y, y_pred)\n",
    "print(mse)\n",
    "y.mean() \n",
    "y.std() \n",
    "# RMSE\n",
    "print(np.sqrt(mse))\n",
    "# MAE\n",
    "print(mean_absolute_error(y, y_pred))\n",
    "# R2 Score\n",
    "print(cio_model.score(X, y))"
   ]
  },
  {
   "cell_type": "markdown",
   "id": "de17f93f-a603-463c-bd1f-27e56ebedc0c",
   "metadata": {},
   "source": [
    "Double click this markdown cell to make it display correctly.\n",
    "\n",
    "Summary of Models:\n",
    "                            Pre-split    Post-split\n",
    "Morning Line Odds     RMSE    2.73          2.70\n",
    "                      MAE     2.26          2.23\n",
    "                      R^2     0.15          0.17\n",
    "\n",
    "Final Odds            RMSE    2.61          2.51\n",
    "                      MAE     2.15          2.05\n",
    "                      R^2     0.22          0.28\n",
    "\n",
    "Change In Odds        RMSE    2.73          2.67\n",
    "                      MAE     2.27          2.21\n",
    "                      R^2     0.15          0.18\n",
    "\n",
    "RMSE = Root Mean Squared Error, lower is better\n",
    "MAE  = Mean Absolute Error, lower is better\n",
    "R^2  = R-squared, closer to 1 is better\n",
    "\n",
    "The Final Odds Post-split model is the best of these 6 models. The low R-squared values of the models show that\n",
    "there are more variables that help determine the finishing position of a horse than just its odds or change in odds."
   ]
  }
 ],
 "metadata": {
  "kernelspec": {
   "display_name": "Python 3 (ipykernel)",
   "language": "python",
   "name": "python3"
  },
  "language_info": {
   "codemirror_mode": {
    "name": "ipython",
    "version": 3
   },
   "file_extension": ".py",
   "mimetype": "text/x-python",
   "name": "python",
   "nbconvert_exporter": "python",
   "pygments_lexer": "ipython3",
   "version": "3.11.7"
  }
 },
 "nbformat": 4,
 "nbformat_minor": 5
}
