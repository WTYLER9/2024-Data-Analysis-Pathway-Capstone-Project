{
 "cells": [
  {
   "cell_type": "markdown",
   "id": "891105d8-1e89-4762-a679-f3e8d994e817",
   "metadata": {},
   "source": []
  },
  {
   "cell_type": "code",
   "execution_count": null,
   "id": "f321cbca-0c6e-4bee-9398-52c22995bce8",
   "metadata": {},
   "outputs": [],
   "source": [
    "import math\n",
    "import numpy as np\n",
    "import pandas as pd\n",
    "from sklearn.linear_model import LinearRegression\n",
    "from sklearn.metrics import mean_squared_error, mean_absolute_error\n",
    "from sklearn.model_selection import train_test_split, cross_val_score"
   ]
  },
  {
   "cell_type": "markdown",
   "id": "404777c6-af78-40ba-8317-d9c5446fc94b",
   "metadata": {},
   "source": []
  },
  {
   "cell_type": "code",
   "execution_count": null,
   "id": "13f25acb-5716-47f9-b5e7-e9d00645162c",
   "metadata": {},
   "outputs": [],
   "source": [
    "df = pd.read_csv(\"Keeneland Race Data Since Oct-2006.csv\")\n",
    "df = df[df[\"RaceMeet\"] == \"Spring 2024\"]\n",
    "df['Index'] = np.arange(len(df))\n",
    "print(df.head())\n",
    "print(len(df))"
   ]
  },
  {
   "cell_type": "markdown",
   "id": "810f5823-512b-4aec-9c6a-3ac8bc739a9a",
   "metadata": {},
   "source": []
  },
  {
   "cell_type": "code",
   "execution_count": null,
   "id": "ad180ee9-4754-4638-a2bd-3990ab042397",
   "metadata": {},
   "outputs": [],
   "source": [
    "df_main = pd.read_csv(\"Keeneland April 2024 Data for Capstone Project.csv\")\n",
    "print(df_main.isnull().values.any())\n",
    "winners = df_main[df_main[\"Finish\"] == \"1\"]\n",
    "winners = winners.copy()\n",
    "winners.loc[:, 'Index'] = np.arange(len(winners))\n",
    "print(df_main.head(20))\n",
    "print(winners.head(15))\n",
    "print(len(winners))"
   ]
  },
  {
   "cell_type": "markdown",
   "id": "62c92e6b-89fa-4f0d-89ed-0f5469a87a20",
   "metadata": {},
   "source": []
  },
  {
   "cell_type": "code",
   "execution_count": null,
   "id": "0019305d-fb25-437f-8abb-1a3654f97e09",
   "metadata": {},
   "outputs": [],
   "source": [
    "df_winners = pd.merge(left=winners,right=df,on='Index')\n",
    "df_winners = df_winners[['Day','Weekday','Race Number','Post Position','M/L Odds','Final Odds','Change In Odds',\n",
    "                       'Distance','FieldSize','Favorite','HalfMileTime','FinalTime','WinnersTrainer',\n",
    "                       'WinnersJockey','ExactaPayout','SuperfectaPayout','TrifectaPayout']]\n",
    "print(df_winners.head())\n",
    "df_winners['Final Odds'] = df_winners['Final Odds'].astype('Float64')\n",
    "print(df_winners.convert_dtypes().dtypes)\n",
    "winners_as_favs = df_winners[df_winners[\"Favorite\"] == \"Y\"]\n",
    "print(len(winners_as_favs)/len(winners))"
   ]
  },
  {
   "cell_type": "markdown",
   "id": "2b43c3ea-983b-44b9-877c-53a2f2048485",
   "metadata": {},
   "source": []
  },
  {
   "cell_type": "code",
   "execution_count": null,
   "id": "1604cd77-8284-4d1e-91df-784092ce6618",
   "metadata": {},
   "outputs": [],
   "source": [
    "df_winners.to_csv(\"merged_data_sets.csv\")"
   ]
  },
  {
   "cell_type": "markdown",
   "id": "9df91928-b9e6-4f93-b910-273530e65797",
   "metadata": {},
   "source": []
  },
  {
   "cell_type": "code",
   "execution_count": null,
   "id": "f3cd3ecc-aa45-4960-b455-b3b26fde461a",
   "metadata": {},
   "outputs": [],
   "source": [
    "winning_post_positions = df_winners['Post Position'].value_counts()\n",
    "print(winning_post_positions)\n",
    "winning_jockey = df_winners['WinnersJockey'].value_counts()\n",
    "print(winning_jockey)\n",
    "winning_trainer = df_winners['WinnersTrainer'].value_counts()\n",
    "print(winning_trainer)\n",
    "number_of_scratches = len(df_main[df_main[\"Finish\"]=='S'])\n",
    "print(number_of_scratches)"
   ]
  },
  {
   "cell_type": "markdown",
   "id": "46392d7d-6943-45fe-b598-43747887582b",
   "metadata": {},
   "source": []
  },
  {
   "cell_type": "code",
   "execution_count": null,
   "id": "34df9c22-e22c-4db8-b9cf-c36b4168ba81",
   "metadata": {},
   "outputs": [],
   "source": [
    "average_field_size_by_weekday = df_winners.groupby(\"Weekday\")[\"FieldSize\"].mean()\n",
    "print(average_field_size_by_weekday)\n",
    "average_halfmile_by_distance = df_winners.groupby(\"Distance\")[\"HalfMileTime\"].mean()\n",
    "print(average_halfmile_by_distance)\n",
    "average_finaltime_by_distance = df_winners.groupby(\"Distance\")[\"FinalTime\"].mean()\n",
    "print(average_finaltime_by_distance)\n",
    "average_winner_mlodds = df_winners[\"M/L Odds\"].mean()\n",
    "print(average_winner_mlodds)\n",
    "average_winner_finalodds = df_winners[\"Final Odds\"].mean()\n",
    "print(average_winner_finalodds)\n",
    "average_winner_oddschange = average_winner_finalodds - average_winner_mlodds\n",
    "print(average_winner_oddschange)"
   ]
  },
  {
   "cell_type": "markdown",
   "id": "791c49fb-cc66-4887-9159-ca6941431502",
   "metadata": {},
   "source": []
  },
  {
   "cell_type": "code",
   "execution_count": null,
   "id": "208942f4-20e3-466a-84a9-043af6a77919",
   "metadata": {},
   "outputs": [],
   "source": [
    "df_main_no_scratches = df_main[df_main[\"Finish\"] != \"S\"]\n",
    "df_main_no_scratches = df_main_no_scratches.copy()\n",
    "df_main_no_scratches.loc[:, 'Final Odds'] = df_main_no_scratches['Final Odds'].astype('Float64')\n",
    "df_main_no_scratches.loc[:, 'Finish'] = df_main_no_scratches['Finish'].astype('Int64')\n",
    "df_main_no_scratches.loc[:, 'Change In Odds'] = np.abs(df_main_no_scratches['Change In Odds'])\n",
    "print(df_main_no_scratches.convert_dtypes().dtypes)\n",
    "print(df_main_no_scratches.head(20))\n",
    "average_mlodds_by_finish = df_main_no_scratches.groupby(\"Finish\")[\"M/L Odds\"].mean().sort_values(ascending=True)\n",
    "print(average_mlodds_by_finish)\n",
    "average_finalodds_by_finish = df_main_no_scratches.groupby(\"Finish\")[\"Final Odds\"].mean().sort_values(ascending=True)\n",
    "print(average_finalodds_by_finish)\n",
    "average_change_in_odds_by_finish = df_main_no_scratches.groupby(\"Finish\")[\"Change In Odds\"].mean().sort_values(ascending=True)\n",
    "print(average_change_in_odds_by_finish)"
   ]
  },
  {
   "cell_type": "markdown",
   "id": "6deac8a8-742e-4e55-9503-41b7df233fd5",
   "metadata": {},
   "source": []
  },
  {
   "cell_type": "code",
   "execution_count": null,
   "id": "88591771-2bf9-4ee0-9255-b73ea2dbaa46",
   "metadata": {},
   "outputs": [],
   "source": [
    "df_main_no_scratches.to_csv('main_no_scratches.csv')"
   ]
  },
  {
   "cell_type": "markdown",
   "id": "12dcd821-fe27-48fb-8ab2-ca77e3a99bd4",
   "metadata": {},
   "source": []
  },
  {
   "cell_type": "code",
   "execution_count": null,
   "id": "f3e59919-110c-4c17-b373-09f71c94e825",
   "metadata": {},
   "outputs": [],
   "source": [
    "#transform data\n",
    "def splitter(s):\n",
    "    li = []\n",
    "    for i in s:\n",
    "        if i <= 2:\n",
    "            li.append(1) \n",
    "        elif i <= 5:\n",
    "            li.append(2)\n",
    "        elif i <= 10:\n",
    "            li.append(3)\n",
    "        elif i <= 15:\n",
    "            li.append(4)\n",
    "        elif i <= 20:\n",
    "            li.append(5)\n",
    "        elif i <= 30:\n",
    "            li.append(6)\n",
    "        elif i <= 50:\n",
    "            li.append(7)\n",
    "        else:\n",
    "            li.append(8)\n",
    "    return li"
   ]
  },
  {
   "cell_type": "markdown",
   "id": "44fc881b-37d8-44f0-854a-7f3797b9af22",
   "metadata": {},
   "source": []
  },
  {
   "cell_type": "code",
   "execution_count": null,
   "id": "34ac62d2-e2f2-4126-9ae6-6d7028eea02a",
   "metadata": {},
   "outputs": [],
   "source": [
    "df_main_no_scratches = df_main_no_scratches.assign(ML_Odds_Split = lambda x: splitter(df_main_no_scratches[\"M/L Odds\"]))\n",
    "df_main_no_scratches = df_main_no_scratches.assign(F_Odds_Split = lambda x: splitter(df_main_no_scratches[\"Final Odds\"]))\n",
    "df_main_no_scratches = df_main_no_scratches.assign(Diff_Odds_Split = lambda x: splitter(df_main_no_scratches[\"Change In Odds\"]))\n",
    "print(df_main_no_scratches.head(20))"
   ]
  },
  {
   "cell_type": "markdown",
   "id": "364b4410-e2db-4b98-9faf-78a567741b54",
   "metadata": {},
   "source": []
  },
  {
   "cell_type": "code",
   "execution_count": null,
   "id": "d0c494e3-a701-4264-8f90-ea8e987b892d",
   "metadata": {},
   "outputs": [],
   "source": [
    "df_main_no_scratches.to_csv('main_no_scratches_grouped.csv')"
   ]
  },
  {
   "cell_type": "markdown",
   "id": "f01573e3-8d8f-4119-bbbc-85df289677f8",
   "metadata": {},
   "source": []
  },
  {
   "cell_type": "code",
   "execution_count": null,
   "id": "b2c1ac72-1d28-4d8d-975a-c7097127d3b0",
   "metadata": {},
   "outputs": [],
   "source": [
    "#M/L odds model\n",
    "#X = np.array(df_main_no_scratches['M/L Odds']).reshape(-1, 1)\n",
    "X = np.array(df_main_no_scratches['ML_Odds_Split']).reshape(-1, 1)\n",
    "y = np.array(df_main_no_scratches['Finish']).reshape(-1, 1)\n",
    "ml_model = LinearRegression().fit(X,y)\n",
    "print ('Intercept: ',ml_model.intercept_)    \n",
    "print ('Coefficients: ', ml_model.coef_[0])\n",
    "# MSE\n",
    "y_pred = ml_model.predict(X)\n",
    "mse = mean_squared_error(y, y_pred)\n",
    "print(mse)\n",
    "y.mean() \n",
    "y.std() \n",
    "# RMSE\n",
    "print(np.sqrt(mse))\n",
    "# MAE\n",
    "print(mean_absolute_error(y, y_pred))\n",
    "# R2 Score\n",
    "print(ml_model.score(X, y))"
   ]
  },
  {
   "cell_type": "markdown",
   "id": "a1d50a43-8692-47bf-a144-b006ae1d03c4",
   "metadata": {},
   "source": []
  },
  {
   "cell_type": "code",
   "execution_count": null,
   "id": "b82c2afc-ea34-41d1-8746-ca3b825811be",
   "metadata": {},
   "outputs": [],
   "source": [
    "#Final Odds model\n",
    "#X = np.array(df_main_no_scratches['Final Odds']).reshape(-1, 1)\n",
    "X = np.array(df_main_no_scratches['F_Odds_Split']).reshape(-1, 1)\n",
    "f_model = LinearRegression().fit(X,y)\n",
    "print ('Intercept: ',f_model.intercept_)    \n",
    "print ('Coefficients: ', f_model.coef_[0])\n",
    "# MSE\n",
    "y_pred = f_model.predict(X)\n",
    "mse = mean_squared_error(y, y_pred)\n",
    "print(mse)\n",
    "y.mean() \n",
    "y.std() \n",
    "# RMSE\n",
    "print(np.sqrt(mse))\n",
    "# MAE\n",
    "print(mean_absolute_error(y, y_pred))\n",
    "# R2 Score\n",
    "print(f_model.score(X, y))"
   ]
  },
  {
   "cell_type": "markdown",
   "id": "663b5445-b488-40a8-96d3-3698775cf356",
   "metadata": {},
   "source": []
  },
  {
   "cell_type": "code",
   "execution_count": null,
   "id": "cfbfcc0b-4023-45aa-871d-1926bd500ba5",
   "metadata": {},
   "outputs": [],
   "source": [
    "#change in odds model\n",
    "#X = np.array(df_main_no_scratches['Change In Odds']).reshape(-1, 1)\n",
    "X = np.array(df_main_no_scratches['Diff_Odds_Split']).reshape(-1, 1)\n",
    "cio_model = LinearRegression().fit(X,y)\n",
    "print ('Intercept: ',cio_model.intercept_)    \n",
    "print ('Coefficients: ', cio_model.coef_[0])\n",
    "# MSE\n",
    "y_pred = cio_model.predict(X)\n",
    "mse = mean_squared_error(y, y_pred)\n",
    "print(mse)\n",
    "y.mean() \n",
    "y.std() \n",
    "# RMSE\n",
    "print(np.sqrt(mse))\n",
    "# MAE\n",
    "print(mean_absolute_error(y, y_pred))\n",
    "# R2 Score\n",
    "print(cio_model.score(X, y))"
   ]
  },
  {
   "cell_type": "markdown",
   "id": "04f1f0fa-8190-4a4d-b746-93fd0a6d4786",
   "metadata": {},
   "source": []
  },
  {
   "cell_type": "code",
   "execution_count": null,
   "id": "3b9b3d3f-7d50-44d2-84b2-e932b1e79967",
   "metadata": {},
   "outputs": [],
   "source": [
    "#compare models\n",
    "average_smlodds_by_finish = df_main_no_scratches.groupby(\"Finish\")[\"ML_Odds_Split\"].mean().sort_values(ascending=True)\n",
    "print(average_smlodds_by_finish)\n",
    "average_sfinalodds_by_finish = df_main_no_scratches.groupby(\"Finish\")[\"F_Odds_Split\"].mean().sort_values(ascending=True)\n",
    "print(average_sfinalodds_by_finish)\n",
    "average_schange_in_odds_by_finish = df_main_no_scratches.groupby(\"Finish\")[\"Diff_Odds_Split\"].mean().sort_values(ascending=True)\n",
    "print(average_schange_in_odds_by_finish)"
   ]
  },
  {
   "cell_type": "code",
   "execution_count": null,
   "id": "24ab7eb3-5814-4af4-95e3-563d49c52f0f",
   "metadata": {},
   "outputs": [],
   "source": []
  }
 ],
 "metadata": {
  "kernelspec": {
   "display_name": "Python 3 (ipykernel)",
   "language": "python",
   "name": "python3"
  },
  "language_info": {
   "codemirror_mode": {
    "name": "ipython",
    "version": 3
   },
   "file_extension": ".py",
   "mimetype": "text/x-python",
   "name": "python",
   "nbconvert_exporter": "python",
   "pygments_lexer": "ipython3",
   "version": "3.11.7"
  }
 },
 "nbformat": 4,
 "nbformat_minor": 5
}
